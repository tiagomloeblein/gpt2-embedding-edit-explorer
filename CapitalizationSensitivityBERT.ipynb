{
 "cells": [
  {
   "cell_type": "markdown",
   "id": "4884998e",
   "metadata": {},
   "source": [
    "# Investigating Capitalization-Sensitive Dimensions in BERT\n",
    "\n",
    "This notebook explores how token embeddings in `bert-base-cased` differ based on capitalization.  \n",
    "Inspired by the repository [GPT-2 Embedding Edit Explorer](https://github.com/tiagomloeblein/gpt2-embedding-edit-explorer), this is a natural extension into identifying which embedding dimensions are most sensitive to casing (uppercase/lowercase).\n",
    "\n",
    "## Goals:\n",
    "- Compare static embeddings of capitalized vs non-capitalized tokens\n",
    "- Identify which dimensions show the highest deviation due to casing\n",
    "- Explore whether these dimensions are semantically meaningful or structurally consistent across other tokens\n"
   ]
  },
  {
   "cell_type": "code",
   "execution_count": null,
   "id": "4a274886",
   "metadata": {},
   "outputs": [],
   "source": [
    "from transformers import BertTokenizer, BertModel\n",
    "import torch\n",
    "import numpy as np\n",
    "import pandas as pd\n",
    "import matplotlib.pyplot as plt\n",
    "import plotly.graph_objs as go\n"
   ]
  },
  {
   "cell_type": "code",
   "execution_count": null,
   "id": "60b8f74d",
   "metadata": {},
   "outputs": [],
   "source": [
    "tokenizer = BertTokenizer.from_pretrained('bert-base-cased')\n",
    "model = BertModel.from_pretrained('bert-base-cased')\n",
    "model.eval()\n"
   ]
  },
  {
   "cell_type": "code",
   "execution_count": null,
   "id": "03cb1bd0",
   "metadata": {},
   "outputs": [],
   "source": [
    "tokens_to_compare = ['cat', 'Cat', 'God']\n",
    "\n",
    "token_ids = [\n",
    "    tokenizer.convert_tokens_to_ids(tokenizer.tokenize(token)[0])\n",
    "    if tokenizer.tokenize(token) else None\n",
    "    for token in tokens_to_compare\n",
    "]\n",
    "\n",
    "with torch.no_grad():\n",
    "    embedding_weights = model.embeddings.word_embeddings.weight\n",
    "\n",
    "token_vectors = {\n",
    "    token: embedding_weights[token_id].detach().numpy()\n",
    "    for token, token_id in zip(tokens_to_compare, token_ids)\n",
    "    if token_id is not None\n",
    "}\n"
   ]
  },
  {
   "cell_type": "code",
   "execution_count": null,
   "id": "81bc42bc",
   "metadata": {},
   "outputs": [],
   "source": [
    "diff_cat_Cat = np.abs(token_vectors['cat'] - token_vectors['Cat'])\n",
    "\n",
    "top_dims = np.argsort(diff_cat_Cat)[-15:][::-1]\n",
    "top_diffs = diff_cat_Cat[top_dims]\n",
    "\n",
    "capitalization_sensitive_dims = pd.DataFrame({\n",
    "    'Dimension': top_dims,\n",
    "    'Abs. Difference |cat - Cat|': top_diffs\n",
    "})\n",
    "capitalization_sensitive_dims\n"
   ]
  },
  {
   "cell_type": "code",
   "execution_count": null,
   "id": "4cf58aff",
   "metadata": {},
   "outputs": [],
   "source": [
    "plt.figure(figsize=(16, 5))\n",
    "plt.plot(-diff_cat_Cat, label=\"Symmetry: -|cat - Cat|\", color='gray')\n",
    "\n",
    "for idx in top_dims:\n",
    "    plt.axvline(x=idx, color='red', linestyle='--', alpha=0.5)\n",
    "    plt.text(idx, -diff_cat_Cat[idx], f\"{idx}\", rotation=90, verticalalignment='bottom', fontsize=8)\n",
    "\n",
    "plt.title(\"Capitalization Sensitivity by Dimension – cat vs Cat\")\n",
    "plt.xlabel(\"Embedding Dimension\")\n",
    "plt.ylabel(\"Symmetry Measure\")\n",
    "plt.grid(True)\n",
    "plt.legend()\n",
    "plt.tight_layout()\n",
    "plt.show()\n"
   ]
  },
  {
   "cell_type": "code",
   "execution_count": null,
   "id": "1b6c7412",
   "metadata": {},
   "outputs": [],
   "source": [
    "diff_cat_God = np.abs(token_vectors['cat'] - token_vectors['God'])\n",
    "diff_Cat_God = np.abs(token_vectors['Cat'] - token_vectors['God'])\n",
    "\n",
    "plt.figure(figsize=(16, 5))\n",
    "plt.plot(diff_cat_God, label='|cat - God|', color='blue', alpha=0.6)\n",
    "plt.plot(diff_Cat_God, label='|Cat - God|', color='green', alpha=0.6)\n",
    "\n",
    "plt.title(\"Differences Between God and ['cat', 'Cat']\")\n",
    "plt.xlabel(\"Embedding Dimension\")\n",
    "plt.ylabel(\"Absolute Difference\")\n",
    "plt.grid(True)\n",
    "plt.legend()\n",
    "plt.tight_layout()\n",
    "plt.show()\n"
   ]
  }
 ],
 "metadata": {},
 "nbformat": 4,
 "nbformat_minor": 5
}
